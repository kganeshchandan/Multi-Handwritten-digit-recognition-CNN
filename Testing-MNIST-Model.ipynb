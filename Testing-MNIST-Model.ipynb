{
 "cells": [
  {
   "cell_type": "code",
   "execution_count": 1,
   "id": "a7ce43c7",
   "metadata": {},
   "outputs": [],
   "source": [
    "import torch\n",
    "import torchvision\n",
    "import torchvision.transforms as transforms\n",
    "from torch.utils.data import DataLoader, TensorDataset\n",
    "from torchvision.utils import make_grid\n",
    "import torch.nn as nn\n",
    "import torch.nn.functional as F\n",
    "import torch.optim as optim\n",
    "from torch.autograd import Variable\n",
    "import pandas as pd\n",
    "import numpy as np\n",
    "import matplotlib.pyplot as plt\n",
    "from sklearn.model_selection import train_test_split\n",
    "import os\n",
    "import math\n",
    "import cv2\n",
    "from tqdm import tqdm\n",
    "%matplotlib inline"
   ]
  },
  {
   "cell_type": "code",
   "execution_count": 2,
   "id": "3c10f484",
   "metadata": {},
   "outputs": [
    {
     "name": "stdout",
     "output_type": "stream",
     "text": [
      "True\n",
      "True\n",
      "cuda\n"
     ]
    }
   ],
   "source": [
    "print(torch.cuda.is_available())\n",
    "print(torch.backends.cudnn.enabled)\n",
    "\n",
    "if torch.cuda.is_available():\n",
    "    device = torch.device('cuda')\n",
    "print(device)"
   ]
  },
  {
   "cell_type": "code",
   "execution_count": 3,
   "id": "ca22d821",
   "metadata": {},
   "outputs": [],
   "source": [
    "class Net(nn.Module):\n",
    "    def __init__(self):\n",
    "        super(Net, self).__init__()\n",
    "        \n",
    "        self.conv_block = nn.Sequential(\n",
    "            nn.Conv2d(1, 32, kernel_size=3, stride=1, padding=1),\n",
    "            nn.BatchNorm2d(32),\n",
    "            nn.ReLU(inplace=True),\n",
    "            nn.Conv2d(32, 64, kernel_size=3, stride=1, padding=1),\n",
    "            nn.BatchNorm2d(64),\n",
    "            nn.ReLU(inplace=True),\n",
    "            nn.MaxPool2d(kernel_size=2, stride=2),\n",
    "            nn.Conv2d(64, 128, kernel_size=3, stride=1, padding=1),\n",
    "            nn.BatchNorm2d(128),\n",
    "            nn.ReLU(inplace=True),\n",
    "            nn.MaxPool2d(kernel_size=2, stride=2) \n",
    "        )\n",
    "        \n",
    "        self.linear_block = nn.Sequential(\n",
    "            nn.Dropout(p=0.5),\n",
    "            nn.Linear(128*7*7, 128),\n",
    "            nn.BatchNorm1d(128),\n",
    "            nn.ReLU(inplace=True),\n",
    "            nn.Dropout(0.5),\n",
    "            nn.Linear(128, 64),\n",
    "            nn.BatchNorm1d(64),\n",
    "            nn.ReLU(inplace=True),\n",
    "            nn.Dropout(0.5),\n",
    "            nn.Linear(64, 10)\n",
    "        )\n",
    "        \n",
    "    def forward(self, x):\n",
    "        x = self.conv_block(x)\n",
    "        x = x.view(x.size(0), -1)\n",
    "        x = self.linear_block(x)\n",
    "        \n",
    "        return x"
   ]
  },
  {
   "cell_type": "code",
   "execution_count": 4,
   "id": "7757c9a4",
   "metadata": {},
   "outputs": [],
   "source": [
    "data0 = np.load('data0.npy')\n",
    "data1 = np.load('data1.npy')\n",
    "data2 = np.load('data2.npy')\n",
    "lab0 = np.load('lab0.npy')\n",
    "lab1 = np.load('lab1.npy')\n",
    "lab2 = np.load('lab2.npy')"
   ]
  },
  {
   "cell_type": "code",
   "execution_count": 5,
   "id": "df30812d",
   "metadata": {},
   "outputs": [],
   "source": [
    "total_data= np.concatenate([data0, data1, data2], axis=0)\n",
    "total_labels= np.concatenate([lab0, lab1, lab2], axis=0)"
   ]
  },
  {
   "cell_type": "markdown",
   "id": "af1c5e6a",
   "metadata": {},
   "source": [
    "# Utility functions for processing images before feeding them to MNIST model"
   ]
  },
  {
   "cell_type": "code",
   "execution_count": 6,
   "id": "bbffe3b4",
   "metadata": {},
   "outputs": [],
   "source": [
    "def padd_img(img):\n",
    "    w,h = img.shape\n",
    "    new_img = np.pad(img, pad_width = ((4,4),(6 ,6)), mode = 'constant')\n",
    "    new_img = cv2.resize(new_img, (28,28))\n",
    "    return new_img"
   ]
  },
  {
   "cell_type": "code",
   "execution_count": 7,
   "id": "4b6aba3d",
   "metadata": {},
   "outputs": [],
   "source": [
    "def break_img(img):\n",
    "    a= img[:,:14]\n",
    "    b = img[:,14:]\n",
    "    return a, b"
   ]
  },
  {
   "cell_type": "code",
   "execution_count": 8,
   "id": "641becdb",
   "metadata": {},
   "outputs": [],
   "source": [
    "def all_digits(img):\n",
    "    ret, thresh = cv2.threshold(img, 150, 255, cv2.THRESH_BINARY)\n",
    "    (numLabels, labels, stats, centroids) = cv2.connectedComponentsWithStats(thresh, cv2.CV_32S)\n",
    "    digits= [] \n",
    "    new_digits= []\n",
    "    for i in range(0,numLabels):\n",
    "        if i != 0:\n",
    "            x = stats[i, cv2.CC_STAT_LEFT] -2\n",
    "            y = stats[i, cv2.CC_STAT_TOP] - 2 \n",
    "            w = stats[i, cv2.CC_STAT_WIDTH] + 4\n",
    "            h = stats[i, cv2.CC_STAT_HEIGHT] + 4\n",
    "            area = stats[i, cv2.CC_STAT_AREA]\n",
    "            new_img = img[y:y+h+1, x:x+w+1] \n",
    "            if area > 20:\n",
    "                digits.append(new_img)\n",
    "    if (len (digits) == 3):\n",
    "        max_ind = 1\n",
    "        max_area = 0\n",
    "        for i in range(len(digits)):\n",
    "            area = digits[i].shape[0] * digits[i].shape[1]\n",
    "            if (area > max_area):\n",
    "                max_area =area\n",
    "                max_ind = i\n",
    "                \n",
    "        digit1, digit2 = break_img(padd_img(digits[max_ind]))\n",
    "        new_digits = [padd_img(digit1), padd_img(digit2)]\n",
    "        for i in range(len(digits)):\n",
    "            if (i!=max_ind):\n",
    "                new_digits.append(padd_img(digits[i]))\n",
    "        digits = new_digits\n",
    "    else:\n",
    "        for i in range(len(digits)):\n",
    "            new_digits.append(padd_img(digits[i]))\n",
    "    digits = new_digits\n",
    "    return np.array(digits)"
   ]
  },
  {
   "cell_type": "code",
   "execution_count": 9,
   "id": "ff70ebfc",
   "metadata": {},
   "outputs": [],
   "source": [
    "def make_predictions(data_loader):\n",
    "    conv_model.eval()\n",
    "    test_preds = torch.LongTensor()\n",
    "    for i, data in enumerate(data_loader):\n",
    "        data = data.unsqueeze(1)\n",
    "        if torch.cuda.is_available():\n",
    "            data = data.cuda()\n",
    "        output = conv_model(data)\n",
    "        preds = output.cpu().data.max(1, keepdim=True)[1]\n",
    "        test_preds = torch.cat((test_preds, preds), dim=0)\n",
    "    return test_preds\n"
   ]
  },
  {
   "cell_type": "markdown",
   "id": "48073c55",
   "metadata": {},
   "source": [
    "# Load Best model so far"
   ]
  },
  {
   "cell_type": "code",
   "execution_count": 10,
   "id": "4002c1b1",
   "metadata": {},
   "outputs": [],
   "source": [
    "conv_model = Net()\n",
    "conv_model = torch.load('./MODELS/A_BEST_PERF76.38')\n",
    "# conv_model = torch.load('./MODELS/random_mnist_model.pt')"
   ]
  },
  {
   "cell_type": "code",
   "execution_count": 15,
   "id": "d1a47bde",
   "metadata": {},
   "outputs": [],
   "source": [
    "    \n",
    "def test_model(test_data, test_labels):\n",
    "    '''test_data is the numpy array of the test  set'''\n",
    "    all_preds = []\n",
    "    for data in tqdm(test_data):\n",
    "        digits = torch.Tensor(all_digits(data))\n",
    "        digits = digits.unsqueeze(1).cuda()\n",
    "        digits = digits / 255.0\n",
    "        out = conv_model(digits)\n",
    "        preds = out.cpu().data.max(1, keepdim=True)[1]\n",
    "        final_pred = np.sum(np.array(preds).flatten())\n",
    "        all_preds.append(final_pred)\n",
    "    acc = np.array(all_preds == test_labels).astype(int).mean()\n",
    "    print( \"The accuracy on the set provided is \", acc * 100)\n",
    "    return all_preds"
   ]
  },
  {
   "cell_type": "code",
   "execution_count": 16,
   "id": "3996ea45",
   "metadata": {},
   "outputs": [
    {
     "name": "stderr",
     "output_type": "stream",
     "text": [
      "100%|██████████| 30000/30000 [03:47<00:00, 132.00it/s]"
     ]
    },
    {
     "name": "stdout",
     "output_type": "stream",
     "text": [
      "The accuracy on the set provided is  76.30666666666667\n"
     ]
    },
    {
     "name": "stderr",
     "output_type": "stream",
     "text": [
      "\n"
     ]
    }
   ],
   "source": [
    "all_preds = test_model(total_data, total_labels)"
   ]
  },
  {
   "cell_type": "code",
   "execution_count": 22,
   "id": "26701509",
   "metadata": {},
   "outputs": [
    {
     "data": {
      "image/png": "[encoded data removed]",
      "text/plain": [
       "<Figure size 432x432 with 3 Axes>"
      ]
     },
     "metadata": {
      "needs_background": "light"
     },
     "output_type": "display_data"
    }
   ],
   "source": [
    "import seaborn as sns\n",
    "sns.jointplot(x=all_preds, y= total_labels, kind='hex')\n",
    "plt.title(\"Correlation plot \")\n",
    "plt.savefig('Testing_performance.png', dpi= 300)"
   ]
  },
  {
   "cell_type": "code",
   "execution_count": 23,
   "id": "ca4810f0",
   "metadata": {},
   "outputs": [
    {
     "data": {
      "text/plain": [
       "<seaborn.axisgrid.JointGrid at 0x7f5c92f26358>"
      ]
     },
     "execution_count": 23,
     "metadata": {},
     "output_type": "execute_result"
    },
    {
     "data": {
      "image/png": "[encoded data removed]",
      "text/plain": [
       "<Figure size 432x432 with 3 Axes>"
      ]
     },
     "metadata": {
      "needs_background": "light"
     },
     "output_type": "display_data"
    }
   ],
   "source": [
    "g = sns.JointGrid(x=all_preds, y= total_labels, space=0)\n",
    "g.plot_joint(sns.kdeplot,\n",
    "             fill=True,\n",
    "             thresh=0, levels=100, cmap=\"rocket_r\")\n",
    "g.plot_marginals(sns.histplot, color=\"#03051A\", alpha=1, bins=25)"
   ]
  },
  {
   "cell_type": "code",
   "execution_count": null,
   "id": "ea4bfcea",
   "metadata": {},
   "outputs": [],
   "source": []
  }
 ],
 "metadata": {
  "kernelspec": {
   "display_name": "Python 3",
   "language": "python",
   "name": "python3"
  },
  "language_info": {
   "codemirror_mode": {
    "name": "ipython",
    "version": 3
   },
   "file_extension": ".py",
   "mimetype": "text/x-python",
   "name": "python",
   "nbconvert_exporter": "python",
   "pygments_lexer": "ipython3",
   "version": "3.6.13"
  }
 },
 "nbformat": 4,
 "nbformat_minor": 5
}
